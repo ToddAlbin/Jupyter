{
 "cells": [
  {
   "cell_type": "code",
   "execution_count": 1,
   "id": "e2af7e90-84bc-4c8a-8522-d19a648b4dd3",
   "metadata": {
    "collapsed": true,
    "jupyter": {
     "outputs_hidden": true
    },
    "tags": []
   },
   "outputs": [
    {
     "name": "stdout",
     "output_type": "stream",
     "text": [
      "second element of areas list = 11.25\n",
      "last element of areas list = 9.5\n",
      "the area of the living room is 20.0\n"
     ]
    }
   ],
   "source": [
    "# DataCamp:Introduction to Python practice code for learning Jupyter Lab\n",
    "\n",
    "# Chapter 2 - Python Lists\n",
    "\n",
    "# Practicing indexing here... \n",
    "# Remember that neg values start at LAST of list and work backward.\n",
    "# And...that list element \"counting\" starts at zero\n",
    "areas = [\"hallway\", 11.25, \"kitchen\", 18.0, \"living room\", 20.0, \"bedroom\", 10.75, \"bathroom\", 9.50]\n",
    "print(\"second element of areas list = \" + str(areas[1]))\n",
    "print(\"last element of areas list = \" + str(areas[-1]))\n",
    "print(\"the area of the living room is \" + str(areas[-5]))"
   ]
  },
  {
   "cell_type": "code",
   "execution_count": 2,
   "id": "63ead6b1-b579-48bc-a50a-b70373bb82bb",
   "metadata": {
    "collapsed": true,
    "jupyter": {
     "outputs_hidden": true
    },
    "tags": []
   },
   "outputs": [
    {
     "name": "stdout",
     "output_type": "stream",
     "text": [
      "the area of kitchen plus bedroom is 28.75\n"
     ]
    }
   ],
   "source": [
    "# Calculations examples...\n",
    "eat_sleep_area = areas[3] + areas[-3]\n",
    "print(\"the area of kitchen plus bedroom is \" + str(eat_sleep_area))"
   ]
  },
  {
   "cell_type": "code",
   "execution_count": 3,
   "id": "541f4580-6d61-424d-95fa-de1b0bdd7724",
   "metadata": {
    "collapsed": true,
    "jupyter": {
     "outputs_hidden": true
    },
    "tags": []
   },
   "outputs": [
    {
     "name": "stdout",
     "output_type": "stream",
     "text": [
      "the downstairs rooms are ['hallway', 11.25, 'kitchen', 18.0, 'living room', 20.0]\n",
      "the upstairs rooms are ['bedroom', 10.75, 'bathroom', 9.5]\n",
      "the downstairs rooms are ['hallway', 11.25, 'kitchen', 18.0, 'living room', 20.0]\n",
      "the upstairs rooms are ['bedroom', 10.75, 'bathroom', 9.5]\n"
     ]
    }
   ],
   "source": [
    "# Slicing and dicing examples...\n",
    "# Remember: the start index will be included, while the end index is not\n",
    "downstairs = areas[0:6]\n",
    "upstairs = areas[6:]\n",
    "print(\"the downstairs rooms are \" + str(downstairs))\n",
    "print(\"the upstairs rooms are \" + str(upstairs))\n",
    "\n",
    "# And some alternative ways to slice, for the same output...\n",
    "downstairs_alt = areas[:6]\n",
    "upstairs_alt = areas[6:]\n",
    "print(\"the downstairs rooms are \" + str(downstairs_alt))\n",
    "print(\"the upstairs rooms are \" + str(upstairs_alt))"
   ]
  },
  {
   "cell_type": "code",
   "execution_count": 4,
   "id": "ddba137d-0e75-40db-98a5-513e27128636",
   "metadata": {
    "collapsed": true,
    "jupyter": {
     "outputs_hidden": true
    },
    "tags": []
   },
   "outputs": [
    {
     "data": {
      "text/plain": [
       "9.5"
      ]
     },
     "execution_count": 4,
     "metadata": {},
     "output_type": "execute_result"
    }
   ],
   "source": [
    "# Subsetting lists of lists...\n",
    "# Remember: first square brackets = sublist selection, 2nd bracket = element within the sublist\n",
    "house = [['hallway', 11.25], ['kitchen', 18.0], ['living room', 20.0], ['bedroom', 10.75], ['bathroom', 9.5]]\n",
    "house[-1][1]"
   ]
  },
  {
   "cell_type": "code",
   "execution_count": 5,
   "id": "046129b5-efad-4d69-b0a5-d62012d92711",
   "metadata": {
    "collapsed": true,
    "jupyter": {
     "outputs_hidden": true
    }
   },
   "outputs": [
    {
     "name": "stdout",
     "output_type": "stream",
     "text": [
      "['bathroom', 10.5]\n",
      "['chill zone', 20.0]\n",
      "['hallway', 11.25, 'kitchen', 18.0, 'chill zone', 20.0, 'bedroom', 10.75, 'bathroom', 10.5, 'poolhouse', 24.5, 'garage', 15.45]\n",
      "['hallway', 11.25, 'kitchen', 18.0, 'chill zone', 20.0, 'bedroom', 10.75, 'bathroom', 10.5, 'garage', 15.45]\n"
     ]
    }
   ],
   "source": [
    "# List manipulation - updating, adding, deleting elements, and assigning to a new list\n",
    "\n",
    "# Updating examples...\n",
    "areas[-1] = 10.50\n",
    "print(areas[8:])\n",
    "areas[4] = \"chill zone\"\n",
    "print(areas[4:6])\n",
    "\n",
    "# Adding elements...\n",
    "# Remember: plus sign with lists means \"add to the list\"\n",
    "# KEY: 1) index the initial list OR 2) formally list() the initial list variable when\n",
    "#      assigning the contents to a new variable name! This ensures that the new variable\n",
    "#      is a SEPARATE LIST, versus a POINTER to the initial list's values!!\n",
    "areas_1 = areas[:] + [\"poolhouse\", 24.5]\n",
    "areas_2 = list(areas_1) + [\"garage\", 15.45]\n",
    "\n",
    "# NOTE: you can stack multiple commands back-to-back using the semicolon ;\n",
    "# Example: command1; command2\n",
    "\n",
    "# Deleting elements...removing the poolhouse data\n",
    "print(areas_2)\n",
    "del(areas_2[-4:-2])\n",
    "print(areas_2)"
   ]
  },
  {
   "cell_type": "code",
   "execution_count": 6,
   "id": "7649c531-756b-482b-aa5c-96ab741e5c99",
   "metadata": {
    "collapsed": true,
    "jupyter": {
     "outputs_hidden": true
    },
    "tags": []
   },
   "outputs": [
    {
     "name": "stdout",
     "output_type": "stream",
     "text": [
      "var1 = [1, 2, 3, 4]\n",
      "var2 = True\n",
      "Variable var1 is type: <class 'list'> and has length: 4\n",
      "\n",
      "While variable out2 is now type: <class 'int'> and has value: 1\n",
      "Help on built-in function sorted in module builtins:\n",
      "\n",
      "sorted(iterable, /, *, key=None, reverse=False)\n",
      "    Return a new list containing all items from the iterable in ascending order.\n",
      "    \n",
      "    A custom key function can be supplied to customize the sort order, and the\n",
      "    reverse flag can be set to request the result in descending order.\n",
      "\n",
      "first = [11.25, 18.0, 20.0]\n",
      "second = [10.75, 9.5]\n",
      "merged and sorted full list = [20.0, 18.0, 11.25, 10.75, 9.5]\n"
     ]
    }
   ],
   "source": [
    "# Functions - some built-in functions\n",
    "# List: max(), round(), help(round) = argument info on round function\n",
    "# NOTE: this section is NOT about defining your own functions, but using existing ones\n",
    "\n",
    "# Examples...print(), type(), len(), str(), int(), bool(), float()\n",
    "# print() -> pushes output to display within the console\n",
    "# type() -> display variable type information\n",
    "# len() -> gives the length of a list variable\n",
    "# str(), int(), bool(), float() -> convert variables to string, integer, boolean, or float type\n",
    "\n",
    "var1 = [1, 2, 3, 4]\n",
    "var2 = True\n",
    "out2 = int(var2)\n",
    "\n",
    "print(\"var1 = \" + str(var1))\n",
    "print(\"var2 = \" + str(var2))\n",
    "print(\"Variable var1 is type: \" + str(type(var1)) + \" and has length: \" + str(len(var1)))\n",
    "print(\"\")\n",
    "print(\"While variable out2 is now type: \" + str(type(out2)) + \" and has value: \" + str(out2))\n",
    "\n",
    "# Example...help()\n",
    "# Help can be called as: help(command) OR ?command\n",
    "help(sorted)\n",
    "\n",
    "# Combine functions to merge two lists and sort the result...\n",
    "first = [11.25, 18.0, 20.0]\n",
    "second = [10.75, 9.50]\n",
    "full = first[:] + second[:]\n",
    "full_sorted = sorted(full, reverse = True)\n",
    "print(\"first = \" + str(first))\n",
    "print(\"second = \" + str(second))\n",
    "print(\"merged and sorted full list = \" + str(full_sorted))\n"
   ]
  },
  {
   "cell_type": "code",
   "execution_count": 7,
   "id": "464fd6aa-9449-4adf-8851-b6ea957391e8",
   "metadata": {
    "collapsed": true,
    "jupyter": {
     "outputs_hidden": true
    },
    "tags": []
   },
   "outputs": [
    {
     "name": "stdout",
     "output_type": "stream",
     "text": [
      "Methods for the list object: \n",
      "['append', 'clear', 'copy', 'count', 'extend', 'index', 'insert', 'pop', 'remove', 'reverse', 'sort']\n",
      "2\n",
      "4\n",
      "['liz', 1.73, 'emma', 1.68, 'mom', 1.71, 'dad', 1.89, 'todd', 1.75]\n",
      "LIZZIE\n"
     ]
    }
   ],
   "source": [
    "# Methods - functions that belong to *OBJECTS*\n",
    "\n",
    "# SIDE NOTE - TWO WAYS to get a list of all the methods belonging to an object\n",
    "\n",
    "# FIRST WAY: type help() on the object; for example: help(list)\n",
    "# Note - methods beginning with \"__\" are called dunder methods.\n",
    "# We typically don't want the dunder methods. The second way, below, shows how to list out\n",
    "# methods while excluding any dunder methods.\n",
    "\n",
    "# SECOND WAY:\n",
    "# Use the code below, replacing \"list\" with the object name you want info on\n",
    "method_list = []\n",
    "\n",
    "for attribute in dir(list):\n",
    "    # Get the attribute value\n",
    "    attribute_value = getattr(list, attribute)\n",
    "    # Check that it is callable, meaning available to code with\n",
    "    if callable(attribute_value):\n",
    "        # Filter all dunder (__ prefix) methods\n",
    "        if attribute.startswith('__') == False:\n",
    "            method_list.append(attribute)\n",
    "            \n",
    "print(\"Methods for the list object: \")\n",
    "print(method_list)\n",
    "\n",
    "# Back to DataCamp course...\n",
    "# Methods are specific to the object.\n",
    "# Objects may have the same method name, but the method's behavior is specific to the object.\n",
    "# Example...\n",
    "sister = \"lizzie\" # string object\n",
    "height = 1.73  # float object\n",
    "fam = [\"liz\", 1.73, \"emma\", 1.68, \"mom\", 1.71, \"dad\", 1.89] # list object\n",
    "\n",
    "print(sister.index(\"z\")) # returns the 1st character position of z in the string\n",
    "print(fam.index(\"mom\"))  # returns the element position of \"mom\" in the list\n",
    "\n",
    "# KEY: some methods can change the object that they are assigned to.\n",
    "# For example: the append method (which can only append one item)\n",
    "fam.append(\"todd\")\n",
    "fam.append(1.75)\n",
    "print(fam)\n",
    "\n",
    "# Examples...\n",
    "sister_up = sister.upper()\n",
    "print(sister_up)"
   ]
  },
  {
   "cell_type": "code",
   "execution_count": 8,
   "id": "c37c88b2-9186-493d-8890-93067e29383e",
   "metadata": {
    "collapsed": true,
    "jupyter": {
     "outputs_hidden": true
    },
    "tags": []
   },
   "outputs": [
    {
     "name": "stdout",
     "output_type": "stream",
     "text": [
      "Circumference: 2.701769682087222\n",
      "Area: 0.5808804816487527\n",
      "\n",
      "Travel distance of moon over 12 degrees: 40317.10572106901 miles\n",
      "\n",
      "Please wait a moment while I gather a list of all available modules...\n",
      "\n"
     ]
    },
    {
     "name": "stderr",
     "output_type": "stream",
     "text": [
      "/Users/toddalbin/miniforge3/lib/python3.9/site-packages/IPython/kernel/__init__.py:12: ShimWarning: The `IPython.kernel` package has been deprecated since IPython 4.0.You should import from ipykernel or jupyter_client instead.\n",
      "  warn(\"The `IPython.kernel` package has been deprecated since IPython 4.0.\"\n"
     ]
    },
    {
     "name": "stdout",
     "output_type": "stream",
     "text": [
      "IPython             argparse            importlib_metadata  rmagic\n",
      "OpenSSL             array               inspect             ruamel_yaml\n",
      "__future__          ast                 io                  runpy\n",
      "_abc                async_generator     ipaddress           sched\n",
      "_aix_support        asynchat            ipykernel           secrets\n",
      "_ast                asyncio             ipykernel_launcher  select\n",
      "_asyncio            asyncore            ipython_genutils    selectors\n",
      "_bisect             atexit              itertools           send2trash\n",
      "_blake2             attr                jedi                setuptools\n",
      "_bootlocale         audioop             jinja2              shelve\n",
      "_bootsubprocess     autoreload          json                shlex\n",
      "_bz2                babel               json5               shutil\n",
      "_cffi_backend       backcall            jsonschema          signal\n",
      "_codecs             backports           jupyter             site\n",
      "_codecs_cn          base64              jupyter_client      six\n",
      "_codecs_hk          bdb                 jupyter_core        smtpd\n",
      "_codecs_iso2022     binascii            jupyter_server      smtplib\n",
      "_codecs_jp          binhex              jupyterlab          sndhdr\n",
      "_codecs_kr          bisect              jupyterlab_pygments sniffio\n",
      "_codecs_tw          bleach              jupyterlab_server   socket\n",
      "_collections        brotli              keyword             socketserver\n",
      "_collections_abc    builtins            lib2to3             socks\n",
      "_compat_pickle      bz2                 linecache           sockshandler\n",
      "_compression        cProfile            locale              sqlite3\n",
      "_contextvars        calendar            logging             sre_compile\n",
      "_crypt              certifi             lzma                sre_constants\n",
      "_csv                cffi                mailbox             sre_parse\n",
      "_ctypes             cgi                 mailcap             ssl\n",
      "_ctypes_test        cgitb               markupsafe          stat\n",
      "_curses             chardet             marshal             statistics\n",
      "_curses_panel       charset_normalizer  math                storemagic\n",
      "_datetime           chunk               matplotlib_inline   string\n",
      "_dbm                cmath               mimetypes           stringprep\n",
      "_decimal            cmd                 mistune             struct\n",
      "_distutils_hack     code                mmap                subprocess\n",
      "_elementtree        codecs              modulefinder        sunau\n",
      "_functools          codeop              multiprocessing     symbol\n",
      "_hashlib            collections         nbclassic           sympyprinting\n",
      "_heapq              colorsys            nbclient            symtable\n",
      "_imp                compileall          nbconvert           sys\n",
      "_io                 concurrent          nbformat            sysconfig\n",
      "_json               conda               nest_asyncio        syslog\n",
      "_locale             conda_env           netrc               tabnanny\n",
      "_lsprof             conda_package_handling nis                 tarfile\n",
      "_lzma               configparser        nntplib             telnetlib\n",
      "_markupbase         contextlib          notebook            tempfile\n",
      "_md5                contextvars         ntpath              terminado\n",
      "_multibytecodec     copy                nturl2path          termios\n",
      "_multiprocessing    copyreg             numbers             test\n",
      "_opcode             crypt               numpy               test_data\n",
      "_operator           cryptography        opcode              test_pycosat\n",
      "_osx_support        csv                 operator            testpath\n",
      "_peg_parser         ctypes              optparse            tests\n",
      "_pickle             curses              os                  textwrap\n",
      "_posixshmem         cythonmagic         packaging           this\n",
      "_posixsubprocess    dataclasses         pandocfilters       threading\n",
      "_py_abc             datetime            parser              time\n",
      "_pydecimal          dateutil            parso               timeit\n",
      "_pyio               dbm                 pathlib             tkinter\n",
      "_pyrsistent_version debugpy             pdb                 token\n",
      "_queue              decimal             pexpect             tokenize\n",
      "_random             decorator           pickle              tornado\n",
      "_scproxy            defusedxml          pickleshare         tqdm\n",
      "_sha1               difflib             pickletools         trace\n",
      "_sha256             dis                 pip                 traceback\n",
      "_sha3               distutils           pipes               tracemalloc\n",
      "_sha512             doctest             pkg_resources       traitlets\n",
      "_signal             easy_install        pkgutil             tty\n",
      "_sitebuiltins       email               platform            turtle\n",
      "_socket             encodings           plistlib            turtledemo\n",
      "_sqlite3            ensurepip           poplib              types\n",
      "_sre                entrypoints         posix               typing\n",
      "_ssl                enum                posixpath           unicodedata\n",
      "_stat               errno               pprint              unittest\n",
      "_statistics         faulthandler        profile             urllib\n",
      "_string             fcntl               prometheus_client   urllib3\n",
      "_strptime           filecmp             prompt_toolkit      uu\n",
      "_struct             fileinput           pstats              uuid\n",
      "_symtable           fnmatch             pty                 venv\n",
      "_sysconfigdata__darwin_darwin formatter           ptyprocess          warnings\n",
      "_sysconfigdata_x86_64_apple_darwin13_4_0 fractions           pvectorc            wave\n",
      "_testbuffer         ftplib              pwd                 wcwidth\n",
      "_testcapi           functools           py_compile          weakref\n",
      "_testimportmultiple gc                  pyclbr              webbrowser\n",
      "_testinternalcapi   genericpath         pycosat             webencodings\n",
      "_testmultiphase     getopt              pycparser           websocket\n",
      "_thread             getpass             pydoc               wheel\n",
      "_threading_local    gettext             pydoc_data          wsgiref\n",
      "_tkinter            glob                pyexpat             xdrlib\n",
      "_tracemalloc        graphlib            pygments            xml\n",
      "_uuid               grp                 pyparsing           xmlrpc\n",
      "_warnings           gzip                pyrsistent          xxlimited\n",
      "_weakref            hashlib             pytz                xxsubtype\n",
      "_weakrefset         heapq               queue               zipapp\n",
      "_xxsubinterpreters  hmac                quopri              zipfile\n",
      "_xxtestfuzz         html                random              zipimport\n",
      "_zoneinfo           http                re                  zipp\n",
      "abc                 idlelib             readline            zlib\n",
      "aifc                idna                reprlib             zmq\n",
      "antigravity         imaplib             requests            zoneinfo\n",
      "anyio               imghdr              requests_unixsocket \n",
      "appnope             imp                 resource            \n",
      "argon2              importlib           rlcompleter         \n",
      "\n",
      "Enter any module name to get more help.  Or, type \"modules spam\" to search\n",
      "for modules whose name or summary contain the string \"spam\".\n",
      "\n"
     ]
    },
    {
     "name": "stderr",
     "output_type": "stream",
     "text": [
      "/Users/toddalbin/miniforge3/lib/python3.9/pkgutil.py:108: VisibleDeprecationWarning: zmq.eventloop.minitornado is deprecated in pyzmq 14.0 and will be removed.\n",
      "    Install tornado itself to use zmq with the tornado IOLoop.\n",
      "    \n",
      "  yield from walk_packages(path, info.name+'.', onerror)\n"
     ]
    }
   ],
   "source": [
    "# Packages - installing, importing, and then using packages\n",
    "\n",
    "# SIDE NOTE - how to list installed packages\n",
    "# 1) within console - use help(\"modules\")\n",
    "# 2) terminal window - use A) pip list, or B) pip freeze\n",
    "\n",
    "# Note: ran help(\"modules\") to confirm that math package is already installed\n",
    "# Module math.pi provides the value of pi for calculations\n",
    "# Use ** to declare an exponent. Example: r squared is \"r ** 2\"\n",
    "\n",
    "import math\n",
    "r = 0.43\n",
    "C = 2 * math.pi * r\n",
    "A = math.pi * r ** 2\n",
    "print(\"Circumference: \" + str(C))\n",
    "print(\"Area: \" + str(A))\n",
    "print(\"\")\n",
    "\n",
    "# To import a specific function from a package: \"from package import function\"\n",
    "# Example - from math import radians\n",
    "# If importing just a specific funtion, you DON'T need to use the dot notation.\n",
    "# Example (replace below code with): dist = r_moon * radians(12)\n",
    "\n",
    "r_moon = 192500\n",
    "dist = r_moon * math.radians(12)\n",
    "print(\"Travel distance of moon over 12 degrees: \" + str(dist) + \" miles\")\n",
    "\n",
    "help(\"modules\")"
   ]
  },
  {
   "cell_type": "code",
   "execution_count": 9,
   "id": "d9d0d7ed-7746-4fd8-b9b5-27c8b42db38f",
   "metadata": {
    "collapsed": true,
    "jupyter": {
     "outputs_hidden": true
    },
    "tags": []
   },
   "outputs": [
    {
     "name": "stdout",
     "output_type": "stream",
     "text": [
      "Collecting package metadata (current_repodata.json): done\n",
      "Solving environment: done\n",
      "\n",
      "# All requested packages already installed.\n",
      "\n"
     ]
    }
   ],
   "source": [
    "# Need to install Numpy package for continued work within Datacamp\n",
    "\n",
    "# IMPORTANT\n",
    "# Here is how to install a package within a Jupyter Lab Python Notebook\n",
    "# Note: this method is specific to how ipython was loaded for this Jupyter Lab,\n",
    "# using the miniforge download (which is a conda install) - date: 7/30/2021\n",
    "\n",
    "import sys\n",
    "sys.executable\n",
    "!conda install --yes --prefix {sys.prefix} numpy"
   ]
  },
  {
   "cell_type": "code",
   "execution_count": 10,
   "id": "aecc735c-626e-4a3b-81d6-94d950ce116c",
   "metadata": {
    "collapsed": true,
    "jupyter": {
     "outputs_hidden": true
    },
    "tags": []
   },
   "outputs": [
    {
     "name": "stdout",
     "output_type": "stream",
     "text": [
      "\n",
      "Please wait a moment while I gather a list of all available modules...\n",
      "\n",
      "IPython             argparse            importlib_metadata  rmagic\n",
      "OpenSSL             array               inspect             ruamel_yaml\n",
      "__future__          ast                 io                  runpy\n",
      "_abc                async_generator     ipaddress           sched\n",
      "_aix_support        asynchat            ipykernel           secrets\n",
      "_ast                asyncio             ipykernel_launcher  select\n",
      "_asyncio            asyncore            ipython_genutils    selectors\n",
      "_bisect             atexit              itertools           send2trash\n",
      "_blake2             attr                jedi                setuptools\n",
      "_bootlocale         audioop             jinja2              shelve\n",
      "_bootsubprocess     autoreload          json                shlex\n",
      "_bz2                babel               json5               shutil\n",
      "_cffi_backend       backcall            jsonschema          signal\n",
      "_codecs             backports           jupyter             site\n",
      "_codecs_cn          base64              jupyter_client      six\n",
      "_codecs_hk          bdb                 jupyter_core        smtpd\n",
      "_codecs_iso2022     binascii            jupyter_server      smtplib\n",
      "_codecs_jp          binhex              jupyterlab          sndhdr\n",
      "_codecs_kr          bisect              jupyterlab_pygments sniffio\n",
      "_codecs_tw          bleach              jupyterlab_server   socket\n",
      "_collections        brotli              keyword             socketserver\n",
      "_collections_abc    builtins            lib2to3             socks\n",
      "_compat_pickle      bz2                 linecache           sockshandler\n",
      "_compression        cProfile            locale              sqlite3\n",
      "_contextvars        calendar            logging             sre_compile\n",
      "_crypt              certifi             lzma                sre_constants\n",
      "_csv                cffi                mailbox             sre_parse\n",
      "_ctypes             cgi                 mailcap             ssl\n",
      "_ctypes_test        cgitb               markupsafe          stat\n",
      "_curses             chardet             marshal             statistics\n",
      "_curses_panel       charset_normalizer  math                storemagic\n",
      "_datetime           chunk               matplotlib_inline   string\n",
      "_dbm                cmath               mimetypes           stringprep\n",
      "_decimal            cmd                 mistune             struct\n",
      "_distutils_hack     code                mmap                subprocess\n",
      "_elementtree        codecs              modulefinder        sunau\n",
      "_functools          codeop              multiprocessing     symbol\n",
      "_hashlib            collections         nbclassic           sympyprinting\n",
      "_heapq              colorsys            nbclient            symtable\n",
      "_imp                compileall          nbconvert           sys\n",
      "_io                 concurrent          nbformat            sysconfig\n",
      "_json               conda               nest_asyncio        syslog\n",
      "_locale             conda_env           netrc               tabnanny\n",
      "_lsprof             conda_package_handling nis                 tarfile\n",
      "_lzma               configparser        nntplib             telnetlib\n",
      "_markupbase         contextlib          notebook            tempfile\n",
      "_md5                contextvars         ntpath              terminado\n",
      "_multibytecodec     copy                nturl2path          termios\n",
      "_multiprocessing    copyreg             numbers             test\n",
      "_opcode             crypt               numpy               test_data\n",
      "_operator           cryptography        opcode              test_pycosat\n",
      "_osx_support        csv                 operator            testpath\n",
      "_peg_parser         ctypes              optparse            tests\n",
      "_pickle             curses              os                  textwrap\n",
      "_posixshmem         cythonmagic         packaging           this\n",
      "_posixsubprocess    dataclasses         pandocfilters       threading\n",
      "_py_abc             datetime            parser              time\n",
      "_pydecimal          dateutil            parso               timeit\n",
      "_pyio               dbm                 pathlib             tkinter\n",
      "_pyrsistent_version debugpy             pdb                 token\n",
      "_queue              decimal             pexpect             tokenize\n",
      "_random             decorator           pickle              tornado\n",
      "_scproxy            defusedxml          pickleshare         tqdm\n",
      "_sha1               difflib             pickletools         trace\n",
      "_sha256             dis                 pip                 traceback\n",
      "_sha3               distutils           pipes               tracemalloc\n",
      "_sha512             doctest             pkg_resources       traitlets\n",
      "_signal             easy_install        pkgutil             tty\n",
      "_sitebuiltins       email               platform            turtle\n",
      "_socket             encodings           plistlib            turtledemo\n",
      "_sqlite3            ensurepip           poplib              types\n",
      "_sre                entrypoints         posix               typing\n",
      "_ssl                enum                posixpath           unicodedata\n",
      "_stat               errno               pprint              unittest\n",
      "_statistics         faulthandler        profile             urllib\n",
      "_string             fcntl               prometheus_client   urllib3\n",
      "_strptime           filecmp             prompt_toolkit      uu\n",
      "_struct             fileinput           pstats              uuid\n",
      "_symtable           fnmatch             pty                 venv\n",
      "_sysconfigdata__darwin_darwin formatter           ptyprocess          warnings\n",
      "_sysconfigdata_x86_64_apple_darwin13_4_0 fractions           pvectorc            wave\n",
      "_testbuffer         ftplib              pwd                 wcwidth\n",
      "_testcapi           functools           py_compile          weakref\n",
      "_testimportmultiple gc                  pyclbr              webbrowser\n",
      "_testinternalcapi   genericpath         pycosat             webencodings\n",
      "_testmultiphase     getopt              pycparser           websocket\n",
      "_thread             getpass             pydoc               wheel\n",
      "_threading_local    gettext             pydoc_data          wsgiref\n",
      "_tkinter            glob                pyexpat             xdrlib\n",
      "_tracemalloc        graphlib            pygments            xml\n",
      "_uuid               grp                 pyparsing           xmlrpc\n",
      "_warnings           gzip                pyrsistent          xxlimited\n",
      "_weakref            hashlib             pytz                xxsubtype\n",
      "_weakrefset         heapq               queue               zipapp\n",
      "_xxsubinterpreters  hmac                quopri              zipfile\n",
      "_xxtestfuzz         html                random              zipimport\n",
      "_zoneinfo           http                re                  zipp\n",
      "abc                 idlelib             readline            zlib\n",
      "aifc                idna                reprlib             zmq\n",
      "antigravity         imaplib             requests            zoneinfo\n",
      "anyio               imghdr              requests_unixsocket \n",
      "appnope             imp                 resource            \n",
      "argon2              importlib           rlcompleter         \n",
      "\n",
      "Enter any module name to get more help.  Or, type \"modules spam\" to search\n",
      "for modules whose name or summary contain the string \"spam\".\n",
      "\n"
     ]
    }
   ],
   "source": [
    "# Let's verify that the package loaded and shows within Jupyter Lab...\n",
    "help(\"modules\")\n",
    "# SUCCESS!"
   ]
  },
  {
   "cell_type": "code",
   "execution_count": 11,
   "id": "27e6fa0a-b5ea-46b3-8e04-91a690baebaa",
   "metadata": {
    "tags": []
   },
   "outputs": [
    {
     "name": "stdout",
     "output_type": "stream",
     "text": [
      "np_baseball: [180 215 210 210 188 176 209 200]\n",
      "<class 'numpy.ndarray'>\n"
     ]
    }
   ],
   "source": [
    "# Numpy - arrays, array subsetting, 2D arrays, 2D array arithmetic, numpy statistics\n",
    "\n",
    "# Creating arrays...use numpy.array() function\n",
    "baseball = [180, 215, 210, 210, 188, 176, 209, 200]\n",
    "import numpy as np\n",
    "np_baseball = np.array(baseball)\n",
    "print(\"np_baseball: \" + str(np_baseball))\n",
    "print(type(np_baseball))\n"
   ]
  },
  {
   "cell_type": "code",
   "execution_count": 12,
   "id": "26b25594-7fdc-4db9-8464-47323be5943a",
   "metadata": {
    "collapsed": true,
    "jupyter": {
     "outputs_hidden": true
    },
    "tags": []
   },
   "outputs": [
    {
     "name": "stdout",
     "output_type": "stream",
     "text": [
      "Collecting package metadata (current_repodata.json): done\n",
      "Solving environment: done\n",
      "\n",
      "## Package Plan ##\n",
      "\n",
      "  environment location: /Users/toddalbin/miniforge3\n",
      "\n",
      "  added / updated specs:\n",
      "    - pandas\n",
      "\n",
      "\n",
      "The following packages will be downloaded:\n",
      "\n",
      "    package                    |            build\n",
      "    ---------------------------|-----------------\n",
      "    pandas-1.3.1               |   py39h4d6be9b_0        11.7 MB  conda-forge\n",
      "    ------------------------------------------------------------\n",
      "                                           Total:        11.7 MB\n",
      "\n",
      "The following NEW packages will be INSTALLED:\n",
      "\n",
      "  pandas             conda-forge/osx-64::pandas-1.3.1-py39h4d6be9b_0\n",
      "\n",
      "\n",
      "\n",
      "Downloading and Extracting Packages\n",
      "pandas-1.3.1         | 11.7 MB   | ##################################### | 100% \n",
      "Preparing transaction: done\n",
      "Verifying transaction: done\n",
      "Executing transaction: done\n",
      "\n",
      "Please wait a moment while I gather a list of all available modules...\n",
      "\n",
      "IPython             argparse            importlib_metadata  rlcompleter\n",
      "OpenSSL             array               inspect             rmagic\n",
      "__future__          ast                 io                  ruamel_yaml\n",
      "_abc                async_generator     ipaddress           runpy\n",
      "_aix_support        asynchat            ipykernel           sched\n",
      "_ast                asyncio             ipykernel_launcher  secrets\n",
      "_asyncio            asyncore            ipython_genutils    select\n",
      "_bisect             atexit              itertools           selectors\n",
      "_blake2             attr                jedi                send2trash\n",
      "_bootlocale         audioop             jinja2              setuptools\n",
      "_bootsubprocess     autoreload          json                shelve\n",
      "_bz2                babel               json5               shlex\n",
      "_cffi_backend       backcall            jsonschema          shutil\n",
      "_codecs             backports           jupyter             signal\n",
      "_codecs_cn          base64              jupyter_client      site\n",
      "_codecs_hk          bdb                 jupyter_core        six\n",
      "_codecs_iso2022     binascii            jupyter_server      smtpd\n",
      "_codecs_jp          binhex              jupyterlab          smtplib\n",
      "_codecs_kr          bisect              jupyterlab_pygments sndhdr\n",
      "_codecs_tw          bleach              jupyterlab_server   sniffio\n",
      "_collections        brotli              keyword             socket\n",
      "_collections_abc    builtins            lib2to3             socketserver\n",
      "_compat_pickle      bz2                 linecache           socks\n",
      "_compression        cProfile            locale              sockshandler\n",
      "_contextvars        calendar            logging             sqlite3\n",
      "_crypt              certifi             lzma                sre_compile\n",
      "_csv                cffi                mailbox             sre_constants\n",
      "_ctypes             cgi                 mailcap             sre_parse\n",
      "_ctypes_test        cgitb               markupsafe          ssl\n",
      "_curses             chardet             marshal             stat\n",
      "_curses_panel       charset_normalizer  math                statistics\n",
      "_datetime           chunk               matplotlib_inline   storemagic\n",
      "_dbm                cmath               mimetypes           string\n",
      "_decimal            cmd                 mistune             stringprep\n",
      "_distutils_hack     code                mmap                struct\n",
      "_elementtree        codecs              modulefinder        subprocess\n",
      "_functools          codeop              multiprocessing     sunau\n",
      "_hashlib            collections         nbclassic           symbol\n",
      "_heapq              colorsys            nbclient            sympyprinting\n",
      "_imp                compileall          nbconvert           symtable\n",
      "_io                 concurrent          nbformat            sys\n",
      "_json               conda               nest_asyncio        sysconfig\n",
      "_locale             conda_env           netrc               syslog\n",
      "_lsprof             conda_package_handling nis                 tabnanny\n",
      "_lzma               configparser        nntplib             tarfile\n",
      "_markupbase         contextlib          notebook            telnetlib\n",
      "_md5                contextvars         ntpath              tempfile\n",
      "_multibytecodec     copy                nturl2path          terminado\n",
      "_multiprocessing    copyreg             numbers             termios\n",
      "_opcode             crypt               numpy               test\n",
      "_operator           cryptography        opcode              test_data\n",
      "_osx_support        csv                 operator            test_pycosat\n",
      "_peg_parser         ctypes              optparse            testpath\n",
      "_pickle             curses              os                  tests\n",
      "_posixshmem         cythonmagic         packaging           textwrap\n",
      "_posixsubprocess    dataclasses         pandas              this\n",
      "_py_abc             datetime            pandocfilters       threading\n",
      "_pydecimal          dateutil            parser              time\n",
      "_pyio               dbm                 parso               timeit\n",
      "_pyrsistent_version debugpy             pathlib             tkinter\n",
      "_queue              decimal             pdb                 token\n",
      "_random             decorator           pexpect             tokenize\n",
      "_scproxy            defusedxml          pickle              tornado\n",
      "_sha1               difflib             pickleshare         tqdm\n",
      "_sha256             dis                 pickletools         trace\n",
      "_sha3               distutils           pip                 traceback\n",
      "_sha512             doctest             pipes               tracemalloc\n",
      "_signal             easy_install        pkg_resources       traitlets\n",
      "_sitebuiltins       email               pkgutil             tty\n",
      "_socket             encodings           platform            turtle\n",
      "_sqlite3            ensurepip           plistlib            turtledemo\n",
      "_sre                entrypoints         poplib              types\n",
      "_ssl                enum                posix               typing\n",
      "_stat               errno               posixpath           unicodedata\n",
      "_statistics         faulthandler        pprint              unittest\n",
      "_string             fcntl               profile             urllib\n",
      "_strptime           filecmp             prometheus_client   urllib3\n",
      "_struct             fileinput           prompt_toolkit      uu\n",
      "_symtable           fnmatch             pstats              uuid\n",
      "_sysconfigdata__darwin_darwin formatter           pty                 venv\n",
      "_sysconfigdata_x86_64_apple_darwin13_4_0 fractions           ptyprocess          warnings\n",
      "_testbuffer         ftplib              pvectorc            wave\n",
      "_testcapi           functools           pwd                 wcwidth\n",
      "_testimportmultiple gc                  py_compile          weakref\n",
      "_testinternalcapi   genericpath         pyclbr              webbrowser\n",
      "_testmultiphase     getopt              pycosat             webencodings\n",
      "_thread             getpass             pycparser           websocket\n",
      "_threading_local    gettext             pydoc               wheel\n",
      "_tkinter            glob                pydoc_data          wsgiref\n",
      "_tracemalloc        graphlib            pyexpat             xdrlib\n",
      "_uuid               grp                 pygments            xml\n",
      "_warnings           gzip                pyparsing           xmlrpc\n",
      "_weakref            hashlib             pyrsistent          xxlimited\n",
      "_weakrefset         heapq               pytz                xxsubtype\n",
      "_xxsubinterpreters  hmac                queue               zipapp\n",
      "_xxtestfuzz         html                quopri              zipfile\n",
      "_zoneinfo           http                random              zipimport\n",
      "abc                 idlelib             re                  zipp\n",
      "aifc                idna                readline            zlib\n",
      "antigravity         imaplib             reprlib             zmq\n",
      "anyio               imghdr              requests            zoneinfo\n",
      "appnope             imp                 requests_unixsocket \n",
      "argon2              importlib           resource            \n",
      "\n",
      "Enter any module name to get more help.  Or, type \"modules spam\" to search\n",
      "for modules whose name or summary contain the string \"spam\".\n",
      "\n"
     ]
    }
   ],
   "source": [
    "# Want to install pandas package. This provides a way to import csv data.\n",
    "# Will use to create a numpy array of baseball data from baseball.csv file.\n",
    "\n",
    "!conda install --yes --prefix {sys.prefix} pandas\n",
    "\n",
    "# Verify the install...\n",
    "help(\"modules\")\n",
    "# Success!"
   ]
  },
  {
   "cell_type": "code",
   "execution_count": 34,
   "id": "e9ef01dc-69a8-4dc6-9210-2a3cfaec6309",
   "metadata": {},
   "outputs": [
    {
     "name": "stdout",
     "output_type": "stream",
     "text": [
      "<class 'pandas.core.frame.DataFrame'>\n",
      "RangeIndex: 1015 entries, 0 to 1014\n",
      "Data columns (total 7 columns):\n",
      " #   Column       Non-Null Count  Dtype  \n",
      "---  ------       --------------  -----  \n",
      " 0   Name         1015 non-null   object \n",
      " 1   Team         1015 non-null   object \n",
      " 2   Position     1015 non-null   object \n",
      " 3   Height       1015 non-null   int64  \n",
      " 4   Weight       1015 non-null   int64  \n",
      " 5   Age          1015 non-null   float64\n",
      " 6   PosCategory  1015 non-null   object \n",
      "dtypes: float64(1), int64(2), object(4)\n",
      "memory usage: 55.6+ KB\n",
      "[74 74 72 72 73 69 69 71 76 71]\n",
      "[180 215 210 210 188 176 209 200 231 180]\n"
     ]
    }
   ],
   "source": [
    "# Import baseball.csv file, which creates a dataframe, then inspect\n",
    "import pandas as pd\n",
    "baseball_data = pd.read_csv('baseball.csv')\n",
    "baseball_data.head() # use to read the first 5 lines of the table\n",
    "baseball_data.info() # get basic info on the dataframe3\n",
    "\n",
    "# Slice out just the height data\n",
    "height = baseball_data['Height'].to_numpy()\n",
    "print(height[:10])\n",
    "\n",
    "# Slice out the weight data\n",
    "weight = baseball_data['Weight'].to_numpy()\n",
    "print(weight[:10])"
   ]
  },
  {
   "cell_type": "code",
   "execution_count": 35,
   "id": "fefb40e5-a64f-47c2-8710-c6fee9cf3eb2",
   "metadata": {},
   "outputs": [
    {
     "name": "stdout",
     "output_type": "stream",
     "text": [
      "[23.11037639 27.60406069 28.48080465 28.48080465 24.80333518 25.99036864\n",
      " 30.86356276 27.89402921 28.11789135 25.10462629]\n"
     ]
    }
   ],
   "source": [
    "# Back to Datacamp course...\n",
    "\n",
    "# Use numpy to calculate bmi values\n",
    "np_height_m = np.array(height) * 0.0254\n",
    "np_weight_kg = np.array(weight) * 0.453592\n",
    "bmi = np_weight_kg / (np_height_m ** 2)\n",
    "print(bmi[:10])"
   ]
  },
  {
   "cell_type": "code",
   "execution_count": 37,
   "id": "19835403-9cba-42c9-bb6a-48fec6c0f647",
   "metadata": {},
   "outputs": [
    {
     "name": "stdout",
     "output_type": "stream",
     "text": [
      "[False False False ... False False False]\n",
      "[20.54255679 20.54255679 20.69282047 20.69282047 20.34343189 20.34343189\n",
      " 20.69282047 20.15883472 19.4984471  20.69282047 20.9205219 ]\n"
     ]
    }
   ],
   "source": [
    "# Can use boolean numpy array to subset the created bmi table...\n",
    "# Let's identify the bmi's that are < 21\n",
    "light = bmi < 21\n",
    "print(light)\n",
    "print(bmi[light])"
   ]
  },
  {
   "cell_type": "code",
   "execution_count": 47,
   "id": "53442434-3c6c-4d5b-975f-8f40f71ef167",
   "metadata": {},
   "outputs": [
    {
     "name": "stdout",
     "output_type": "stream",
     "text": [
      "The array type info: <class 'numpy.ndarray'>\n",
      "Shape of our array: (4, 2)\n",
      "Here is the array call output:\n"
     ]
    },
    {
     "data": {
      "text/plain": [
       "array([[180. ,  78.4],\n",
       "       [215. , 102.7],\n",
       "       [210. ,  98.5],\n",
       "       [188. ,  75.2]])"
      ]
     },
     "execution_count": 47,
     "metadata": {},
     "output_type": "execute_result"
    }
   ],
   "source": [
    "# 2D Numpy Arrays - creating, subsetting, element-wise calculations\n",
    "\n",
    "# Recast baseball as a list of lists...and convert to numpy array...\n",
    "baseball = [[180, 78.4], [215, 102.7], [210, 98.5], [188, 75.2]]\n",
    "np_baseball = np.array(baseball)\n",
    "print(\"The array type info: \" + str(type(np_baseball)))\n",
    "print(\"Shape of our array: \" + str(np_baseball.shape))\n",
    "print(\"Here is the array call output:\")\n",
    "np_baseball"
   ]
  },
  {
   "cell_type": "code",
   "execution_count": 59,
   "id": "af0d0b33-7433-4bf3-b26f-a50fb057de6e",
   "metadata": {
    "collapsed": true,
    "jupyter": {
     "outputs_hidden": true
    },
    "tags": []
   },
   "outputs": [
    {
     "name": "stdout",
     "output_type": "stream",
     "text": [
      "      Height  Weight\n",
      "0         74     180\n",
      "1         74     215\n",
      "2         72     210\n",
      "3         72     210\n",
      "4         73     188\n",
      "...      ...     ...\n",
      "1010      73     190\n",
      "1011      74     180\n",
      "1012      75     205\n",
      "1013      75     190\n",
      "1014      73     195\n",
      "\n",
      "[1015 rows x 2 columns]\n",
      "<class 'pandas.core.frame.DataFrame'>\n",
      "[[74, 180], [74, 215], [72, 210], [72, 210], [73, 188], [69, 176], [69, 209], [71, 200], [76, 231], [71, 180], [73, 188], [73, 180], [74, 185], [74, 160], [69, 180], [70, 185], [73, 189], [75, 185], [78, 219], [79, 230], [76, 205], [74, 230], [76, 195], [72, 180], [71, 192], [75, 225], [77, 203], [74, 195], [73, 182], [74, 188], [78, 200], [73, 180], [75, 200], [73, 200], [75, 245], [75, 240], [74, 215], [69, 185], [71, 175], [74, 199], [73, 200], [73, 215], [76, 200], [74, 205], [74, 206], [70, 186], [72, 188], [77, 220], [74, 210], [70, 195], [73, 200], [75, 200], [76, 212], [76, 224], [78, 210], [74, 205], [74, 220], [76, 195], [77, 200], [81, 260], [78, 228], [75, 270], [77, 200], [75, 210], [76, 190], [74, 220], [72, 180], [72, 205], [75, 210], [73, 220], [73, 211], [73, 200], [70, 180], [70, 190], [70, 170], [76, 230], [68, 155], [71, 185], [72, 185], [75, 200], [75, 225], [75, 225], [75, 220], [68, 160], [74, 205], [78, 235], [71, 250], [73, 210], [76, 190], [74, 160], [74, 200], [79, 205], [75, 222], [73, 195], [76, 205], [74, 220], [74, 220], [73, 170], [72, 185], [74, 195], [73, 220], [74, 230], [72, 180], [73, 220], [69, 180], [72, 180], [73, 170], [75, 210], [75, 215], [73, 200], [72, 213], [72, 180], [76, 192], [74, 235], [72, 185], [77, 235], [74, 210], [77, 222], [75, 210], [76, 230], [80, 220], [74, 180], [74, 190], [75, 200], [78, 210], [73, 194], [73, 180], [74, 190], [75, 240], [76, 200], [71, 198], [73, 200], [74, 195], [76, 210], [76, 220], [74, 190], [73, 210], [74, 225], [70, 180], [72, 185], [73, 170], [73, 185], [73, 185], [73, 180], [71, 178], [74, 175], [74, 200], [72, 204], [74, 211], [71, 190], [74, 210], [73, 190], [75, 190], [75, 185], [79, 290], [73, 175], [75, 185], [76, 200], [74, 220], [76, 170], [78, 220], [74, 190], [76, 220], [72, 205], [74, 200], [76, 250], [74, 225], [75, 215], [78, 210], [75, 215], [72, 195], [74, 200], [72, 194], [74, 220], [70, 180], [71, 180], [70, 170], [75, 195], [71, 180], [71, 170], [73, 206], [72, 205], [71, 200], [73, 225], [72, 201], [75, 225], [74, 233], [74, 180], [75, 225], [73, 180], [77, 220], [73, 180], [76, 237], [75, 215], [74, 190], [76, 235], [75, 190], [73, 180], [71, 165], [76, 195], [75, 200], [72, 190], [71, 190], [77, 185], [73, 185], [74, 205], [71, 190], [72, 205], [74, 206], [75, 220], [73, 208], [72, 170], [75, 195], [75, 210], [74, 190], [72, 211], [74, 230], [71, 170], [70, 185], [74, 185], [77, 241], [77, 225], [75, 210], [75, 175], [78, 230], [75, 200], [76, 215], [73, 198], [75, 226], [75, 278], [79, 215], [77, 230], [76, 240], [71, 184], [75, 219], [74, 170], [69, 218], [71, 190], [76, 225], [72, 220], [72, 176], [70, 190], [72, 197], [73, 204], [71, 167], [72, 180], [71, 195], [73, 220], [72, 215], [73, 185], [74, 190], [74, 205], [72, 205], [75, 200], [74, 210], [74, 215], [77, 200], [75, 205], [73, 211], [72, 190], [71, 208], [74, 200], [77, 210], [75, 232], [75, 230], [75, 210], [78, 220], [78, 210], [74, 202], [76, 212], [78, 225], [76, 170], [70, 190], [72, 200], [80, 237], [74, 220], [74, 170], [71, 193], [70, 190], [72, 150], [71, 220], [74, 200], [71, 190], [72, 185], [71, 185], [74, 200], [69, 172], [76, 220], [75, 225], [75, 190], [76, 195], [73, 219], [76, 190], [73, 197], [77, 200], [73, 195], [72, 210], [72, 177], [77, 220], [77, 235], [71, 180], [74, 195], [74, 195], [73, 190], [78, 230], [75, 190], [73, 200], [70, 190], [74, 190], [72, 200], [73, 200], [73, 184], [75, 200], [75, 180], [74, 219], [76, 187], [73, 200], [74, 220], [75, 205], [75, 190], [72, 170], [73, 160], [73, 215], [72, 175], [74, 205], [78, 200], [76, 214], [73, 200], [74, 190], [75, 180], [70, 205], [75, 220], [71, 190], [72, 215], [78, 235], [75, 191], [73, 200], [73, 181], [71, 200], [75, 210], [77, 240], [72, 185], [69, 165], [73, 190], [74, 185], [72, 175], [70, 155], [75, 210], [70, 170], [72, 175], [72, 220], [74, 210], [73, 205], [74, 200], [76, 205], [75, 195], [80, 240], [72, 150], [75, 200], [73, 215], [74, 202], [74, 200], [73, 190], [75, 205], [75, 190], [71, 160], [73, 215], [75, 185], [74, 200], [74, 190], [72, 210], [74, 185], [74, 220], [74, 190], [73, 202], [76, 205], [75, 220], [72, 175], [73, 160], [73, 190], [73, 200], [72, 229], [72, 206], [72, 220], [72, 180], [71, 195], [75, 175], [75, 188], [74, 230], [73, 190], [75, 200], [79, 190], [74, 219], [76, 235], [73, 180], [74, 180], [74, 180], [72, 200], [74, 234], [74, 185], [75, 220], [78, 223], [74, 200], [74, 210], [74, 200], [77, 210], [70, 190], [73, 177], [74, 227], [73, 180], [71, 195], [75, 199], [71, 175], [72, 185], [77, 240], [74, 210], [70, 180], [77, 194], [73, 225], [72, 180], [76, 205], [71, 193], [76, 230], [78, 230], [75, 220], [73, 200], [78, 249], [74, 190], [79, 208], [75, 245], [76, 250], [72, 160], [75, 192], [75, 220], [70, 170], [72, 197], [70, 155], [74, 190], [71, 200], [76, 220], [73, 210], [76, 228], [71, 190], [69, 160], [72, 184], [72, 180], [69, 180], [73, 200], [69, 176], [73, 160], [74, 222], [74, 211], [72, 195], [71, 200], [72, 175], [72, 206], [76, 240], [76, 185], [76, 260], [74, 185], [76, 221], [75, 205], [71, 200], [72, 170], [71, 201], [73, 205], [75, 185], [76, 205], [75, 245], [71, 220], [75, 210], [74, 220], [72, 185], [73, 175], [73, 170], [73, 180], [73, 200], [76, 210], [72, 175], [76, 220], [73, 206], [73, 180], [73, 210], [75, 195], [75, 200], [77, 200], [73, 164], [72, 180], [75, 220], [70, 195], [74, 205], [72, 170], [80, 240], [71, 210], [71, 195], [74, 200], [74, 205], [73, 192], [75, 190], [76, 170], [73, 240], [77, 200], [72, 205], [73, 175], [77, 250], [76, 220], [71, 224], [75, 210], [73, 195], [74, 180], [77, 245], [71, 175], [72, 180], [73, 215], [69, 175], [73, 180], [70, 195], [74, 230], [76, 230], [73, 205], [73, 215], [75, 195], [73, 180], [79, 205], [74, 180], [73, 190], [74, 180], [77, 190], [75, 190], [74, 220], [73, 210], [77, 255], [73, 190], [77, 230], [74, 200], [74, 205], [73, 210], [77, 225], [74, 215], [77, 220], [75, 205], [77, 200], [75, 220], [71, 197], [74, 225], [70, 187], [79, 245], [72, 185], [72, 185], [70, 175], [74, 200], [74, 180], [72, 188], [73, 225], [72, 200], [74, 210], [74, 245], [76, 213], [82, 231], [74, 165], [74, 228], [70, 210], [73, 250], [73, 191], [74, 190], [77, 200], [72, 215], [76, 254], [73, 232], [73, 180], [72, 215], [74, 220], [74, 180], [71, 200], [72, 170], [75, 195], [74, 210], [74, 200], [77, 220], [70, 165], [71, 180], [73, 200], [76, 200], [71, 170], [75, 224], [74, 220], [72, 180], [76, 198], [79, 240], [76, 239], [73, 185], [76, 210], [78, 220], [75, 200], [76, 195], [72, 220], [72, 230], [73, 170], [73, 220], [75, 230], [71, 165], [76, 205], [70, 192], [75, 210], [74, 205], [75, 200], [73, 210], [71, 185], [71, 195], [72, 202], [73, 205], [73, 195], [72, 180], [69, 200], [73, 185], [78, 240], [71, 185], [73, 220], [75, 205], [76, 205], [70, 180], [74, 201], [77, 190], [75, 208], [79, 240], [72, 180], [77, 230], [73, 195], [75, 215], [75, 190], [75, 195], [73, 215], [73, 215], [76, 220], [77, 220], [75, 230], [70, 195], [71, 190], [71, 195], [75, 209], [74, 204], [69, 170], [70, 185], [75, 205], [72, 175], [75, 210], [73, 190], [72, 180], [72, 180], [72, 160], [76, 235], [75, 200], [74, 210], [69, 180], [73, 190], [72, 197], [72, 203], [75, 205], [77, 170], [76, 200], [80, 250], [77, 200], [76, 220], [79, 200], [71, 190], [75, 170], [73, 190], [76, 220], [77, 215], [73, 206], [76, 215], [70, 185], [75, 235], [73, 188], [75, 230], [70, 195], [69, 168], [71, 190], [72, 160], [72, 200], [73, 200], [70, 189], [70, 180], [73, 190], [76, 200], [75, 220], [72, 187], [73, 240], [79, 190], [71, 180], [72, 185], [74, 210], [74, 220], [74, 219], [72, 190], [76, 193], [76, 175], [72, 180], [72, 215], [71, 210], [72, 200], [72, 190], [70, 185], [77, 220], [74, 170], [72, 195], [76, 205], [71, 195], [76, 210], [71, 190], [73, 190], [70, 180], [73, 220], [73, 190], [72, 186], [71, 185], [71, 190], [71, 180], [72, 190], [72, 170], [74, 210], [74, 240], [74, 220], [71, 180], [72, 210], [75, 210], [72, 195], [71, 160], [72, 180], [72, 205], [72, 200], [72, 185], [74, 245], [74, 190], [77, 210], [75, 200], [73, 200], [75, 222], [73, 215], [76, 240], [72, 170], [77, 220], [75, 156], [72, 190], [71, 202], [71, 221], [75, 200], [72, 190], [73, 210], [73, 190], [71, 200], [70, 165], [75, 190], [71, 185], [76, 230], [73, 208], [68, 209], [71, 175], [72, 180], [74, 200], [77, 205], [72, 200], [76, 250], [78, 210], [81, 230], [72, 244], [73, 202], [76, 240], [72, 200], [72, 215], [74, 177], [76, 210], [73, 170], [76, 215], [75, 217], [70, 198], [71, 200], [74, 220], [72, 170], [73, 200], [76, 230], [76, 231], [73, 183], [71, 192], [68, 167], [71, 190], [71, 180], [74, 180], [77, 215], [69, 160], [72, 205], [76, 223], [75, 175], [76, 170], [75, 190], [76, 240], [72, 175], [74, 230], [76, 223], [74, 196], [72, 167], [75, 195], [78, 190], [77, 250], [70, 190], [72, 190], [79, 190], [74, 170], [71, 160], [68, 150], [77, 225], [75, 220], [71, 209], [72, 210], [70, 176], [72, 260], [72, 195], [73, 190], [72, 184], [74, 180], [72, 195], [72, 195], [75, 219], [72, 225], [73, 212], [74, 202], [72, 185], [78, 200], [75, 209], [72, 200], [74, 195], [75, 228], [75, 210], [76, 190], [74, 212], [74, 190], [73, 218], [74, 220], [71, 190], [74, 235], [75, 210], [76, 200], [74, 188], [76, 210], [76, 235], [73, 188], [75, 215], [75, 216], [74, 220], [68, 180], [72, 185], [75, 200], [71, 210], [70, 220], [72, 185], [73, 231], [72, 210], [75, 195], [74, 200], [70, 205], [76, 200], [71, 190], [82, 250], [72, 185], [73, 180], [74, 170], [71, 180], [75, 208], [77, 235], [72, 215], [74, 244], [72, 220], [73, 185], [78, 230], [77, 190], [73, 200], [73, 180], [73, 190], [73, 196], [73, 180], [76, 230], [75, 224], [70, 160], [73, 178], [72, 205], [73, 185], [75, 210], [74, 180], [73, 190], [73, 200], [76, 257], [73, 190], [75, 220], [70, 165], [77, 205], [72, 200], [77, 208], [74, 185], [75, 215], [75, 170], [75, 235], [75, 210], [72, 170], [74, 180], [71, 170], [76, 190], [71, 150], [75, 230], [76, 203], [83, 260], [75, 246], [74, 186], [76, 210], [72, 198], [72, 210], [75, 215], [75, 180], [72, 200], [77, 245], [73, 200], [72, 192], [70, 192], [74, 200], [72, 192], [74, 205], [72, 190], [71, 186], [70, 170], [71, 197], [76, 219], [74, 200], [76, 220], [74, 207], [74, 225], [74, 207], [75, 212], [75, 225], [71, 170], [71, 190], [74, 210], [77, 230], [71, 210], [74, 200], [75, 238], [77, 234], [76, 222], [74, 200], [76, 190], [72, 170], [71, 220], [72, 223], [75, 210], [73, 215], [68, 196], [72, 175], [69, 175], [73, 189], [73, 205], [75, 210], [70, 180], [70, 180], [74, 197], [75, 220], [74, 228], [74, 190], [73, 204], [74, 165], [75, 216], [77, 220], [73, 208], [74, 210], [76, 215], [74, 195], [75, 200], [73, 215], [76, 229], [78, 240], [75, 207], [73, 205], [77, 208], [74, 185], [72, 190], [74, 170], [72, 208], [71, 225], [73, 190], [75, 225], [73, 185], [67, 180], [67, 165], [76, 240], [74, 220], [73, 212], [70, 163], [75, 215], [70, 175], [72, 205], [77, 210], [79, 205], [78, 208], [74, 215], [75, 180], [75, 200], [78, 230], [76, 211], [75, 230], [69, 190], [75, 220], [72, 180], [75, 205], [73, 190], [74, 180], [75, 205], [75, 190], [73, 195]]\n",
      "<class 'list'>\n"
     ]
    }
   ],
   "source": [
    "# Recast baseball as a 2D array with both height and weight data from full csv file...\n",
    "# This requires a new structure for the originial data - each player's \n",
    "# heigh and weight as a list of lists.\n",
    "\n",
    "# Capture just the columns Height and Weight from the dataframe, convert to list\n",
    "htwt_baseball = baseball_data[['Height', 'Weight']]\n",
    "print(htwt_baseball)                       # verify just the two columns\n",
    "print(type(htwt_baseball))                 # new object is a dataframe\n",
    "htwt_lol = htwt_baseball.values.tolist()   # push full df out as list of lists\n",
    "print(htwt_lol)                            # verify proper format\n",
    "print(type(htwt_lol))                      # verify type \n",
    "\n",
    "# Capture columns Height, Weight, and Age, convert to list, convert to numpy array\n",
    "hwa_baseball = baseball_data[['Height', 'Weight', 'Age']]\n",
    "hwa_lol = hwa_baseball.values.tolist()\n",
    "np_hwa_baseball = np.array(hwa_lol)"
   ]
  },
  {
   "cell_type": "code",
   "execution_count": 56,
   "id": "47e0d627-9ff1-4622-9d32-0948c5fbabf0",
   "metadata": {
    "collapsed": true,
    "jupyter": {
     "outputs_hidden": true
    },
    "tags": []
   },
   "outputs": [
    {
     "name": "stdout",
     "output_type": "stream",
     "text": [
      "[[ 74 180]\n",
      " [ 74 215]\n",
      " [ 72 210]\n",
      " ...\n",
      " [ 75 205]\n",
      " [ 75 190]\n",
      " [ 73 195]]\n",
      "<class 'numpy.ndarray'>\n",
      "[ 70 195]\n",
      "<class 'numpy.ndarray'>\n",
      "75\n"
     ]
    }
   ],
   "source": [
    "# Back to Datacamp - we'll use htwt_lol as our base data to make the 2D numpy array\n",
    "np_baseball = np.array(htwt_lol)\n",
    "print(np_baseball)\n",
    "print(type(np_baseball))\n",
    "\n",
    "# Selecting examples...\n",
    "print(np_baseball[49,:])          # print out the 50th row\n",
    "np_weight_lb = np_baseball[:, 1]  # create numpy array of just the 2nd column, weight\n",
    "print(type(np_weight_lb))         # confirm this as a numpy array\n",
    "print(np_baseball[123, 0])        # print out height of 124th player"
   ]
  },
  {
   "cell_type": "code",
   "execution_count": 61,
   "id": "43003408-b45d-4035-807c-77648890420a",
   "metadata": {
    "collapsed": true,
    "jupyter": {
     "outputs_hidden": true
    },
    "tags": []
   },
   "outputs": [
    {
     "name": "stdout",
     "output_type": "stream",
     "text": [
      "[[ 1.8796  81.64656 22.99   ]\n",
      " [ 1.8796  97.52228 34.69   ]\n",
      " [ 1.8288  95.25432 30.78   ]\n",
      " ...\n",
      " [ 1.905   92.98636 25.19   ]\n",
      " [ 1.905   86.18248 31.01   ]\n",
      " [ 1.8542  88.45044 27.92   ]]\n",
      "[[ 74.   180.    22.99]\n",
      " [ 74.   215.    34.69]\n",
      " [ 72.   210.    30.78]\n",
      " ...\n",
      " [ 75.   205.    25.19]\n",
      " [ 75.   190.    31.01]\n",
      " [ 73.   195.    27.92]]\n",
      "[[ 1.8796  81.64656 22.99   ]\n",
      " [ 1.8796  97.52228 34.69   ]\n",
      " [ 1.8288  95.25432 30.78   ]\n",
      " ...\n",
      " [ 1.905   92.98636 25.19   ]\n",
      " [ 1.905   86.18248 31.01   ]\n",
      " [ 1.8542  88.45044 27.92   ]]\n"
     ]
    }
   ],
   "source": [
    "# 2D Arithmetic\n",
    "# KEY - doing arithmetic with a ndarray DOESN'T change the original array.\n",
    "# Using the np_hwa_baseball numpy array now; has 3 columns...\n",
    "conversion = np.array([0.0254, 0.453592, 1])   # conversion factors to m, kg, (no change)\n",
    "print(np_hwa_baseball * conversion)            # calculate converted values\n",
    "print(np_hwa_baseball)                         # NOTICE - no change to np_baseball\n",
    "np_hwa_metric = np_hwa_baseball * conversion   # have saved our converted values\n",
    "print(np_hwa_metric)                           # now they are available for future use"
   ]
  },
  {
   "cell_type": "code",
   "execution_count": 65,
   "id": "19c2aabf-a620-41bf-811c-6f4154e1ffef",
   "metadata": {},
   "outputs": [
    {
     "name": "stdout",
     "output_type": "stream",
     "text": [
      "73.6896551724138\n",
      "74.0\n",
      "2.312791881046546\n",
      "[[1.         0.53153932]\n",
      " [0.53153932 1.        ]]\n"
     ]
    }
   ],
   "source": [
    "# Basic Statistics - using built-in numpy functions\n",
    "# Continue using the np_hwa_baseball array...\n",
    "print(np.mean(np_hwa_baseball[:,0]))           # calculate the mean height\n",
    "print(np.median(np_hwa_baseball[:,0]))         # calculate the median height\n",
    "print(np.std(np_hwa_baseball[:,0]))            # standard deviation of height\n",
    "print(np.corrcoef(np_hwa_baseball[:,0], np_hwa_baseball[:,1]))  # correlation coefficient"
   ]
  },
  {
   "cell_type": "code",
   "execution_count": null,
   "id": "9822bb37-d41a-4ce4-9253-aabecc619ab4",
   "metadata": {
    "tags": []
   },
   "outputs": [],
   "source": []
  }
 ],
 "metadata": {
  "kernelspec": {
   "display_name": "Python 3 (ipykernel)",
   "language": "python",
   "name": "python3"
  },
  "language_info": {
   "codemirror_mode": {
    "name": "ipython",
    "version": 3
   },
   "file_extension": ".py",
   "mimetype": "text/x-python",
   "name": "python",
   "nbconvert_exporter": "python",
   "pygments_lexer": "ipython3",
   "version": "3.9.6"
  },
  "toc-showtags": false
 },
 "nbformat": 4,
 "nbformat_minor": 5
}
